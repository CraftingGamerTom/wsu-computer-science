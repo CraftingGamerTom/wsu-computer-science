{
 "cells": [
  {
   "cell_type": "code",
   "execution_count": null,
   "metadata": {},
   "outputs": [],
   "source": [
    "!pip3 install apyori"
   ]
  },
  {
   "cell_type": "code",
   "execution_count": 1,
   "metadata": {},
   "outputs": [
    {
     "name": "stdout",
     "output_type": "stream",
     "text": [
      "You are ready to use the data\n"
     ]
    }
   ],
   "source": [
    "# Apriori Algorithm for Association Rule Mining\n",
    "\n",
    "# ----------------------------------------------------------------\n",
    "# ------------------ SETTING UP THE RANKED DATA ------------------\n",
    "# ----------------------------------------------------------------\n",
    "\n",
    "# Install assocation rule mining library\n",
    "# pip3 install apyori\n",
    "\n",
    "import numpy as np\n",
    "import matplotlib.pyplot as plt\n",
    "import pandas as pd\n",
    "from apyori import apriori\n",
    "\n",
    "dataCsvPath = '/home/ec2-user/SageMaker/wsu-computer-science/CS-383_Cloud-Computing_2020-Spring/area-ranking/output/'\n",
    "dailyRankedCrimes = pd.read_csv(dataCsvPath + \"WorcesterData_BinRanked_Day.csv\",error_bad_lines=False)\n",
    "yearlyRankedCrimes = pd.read_csv(dataCsvPath + \"WorcesterData_BinRanked_Year.csv\",error_bad_lines=False)\n",
    "\n",
    "# Fix the Column names in the daily ranked crimes\n",
    "# Found that this breaks assocation rule mining - related to using date? \n",
    "#dailyRankedCrimes['ACTUAL_DTE'] = pd.to_datetime(dailyRankedCrimes['ACTUAL_DTE']*10000+dailyRankedCrimes['ACTUAL_DTE.1']*100+dailyRankedCrimes['ACTUAL_DTE.2'],format='%Y%m%d')\n",
    "#del dailyRankedCrimes['ACTUAL_DTE.1']\n",
    "#del dailyRankedCrimes['ACTUAL_DTE.2']\n",
    "# Still an issue if converted to a nominal (category):\n",
    "#dailyRankedCrimes['ACTUAL_DTE'] = dailyRankedCrimes['ACTUAL_DTE'].dt.strftime('%Y-%m-%d')\n",
    "#dailyRankedCrimes['ACTUAL_DTE']          \t\t= pd.Categorical(dailyRankedCrimes['ACTUAL_DTE'])\n",
    "\n",
    "# Done Loading Data\n",
    "print('You are ready to use the data')"
   ]
  },
  {
   "cell_type": "code",
   "execution_count": 2,
   "metadata": {},
   "outputs": [
    {
     "name": "stdout",
     "output_type": "stream",
     "text": [
      "1\n",
      "5\n"
     ]
    }
   ],
   "source": [
    "# ------------------ DAILY DATASET --------------------\n",
    "\n",
    "# Remove the RANK column\n",
    "del dailyRankedCrimes['WEIGHTED_INCIDENT_SCORE']\n",
    "\n",
    "association_rules = apriori(dailyRankedCrimes.values, min_support=0.00045, min_confidence=0.95, min_lift=3, min_length=2, use_colnames = True)\n",
    "association_results = list(association_rules)\n",
    "print(len(association_results))\n",
    "# 1\n",
    "\n",
    "# Adjust Settings\n",
    "association_rules = apriori(dailyRankedCrimes.values, min_support=0.00025, min_confidence=0.95, min_lift=3, min_length=2, use_colnames = True)\n",
    "association_results = list(association_rules)\n",
    "print(len(association_results))\n",
    "# 5"
   ]
  },
  {
   "cell_type": "code",
   "execution_count": 3,
   "metadata": {},
   "outputs": [
    {
     "name": "stdout",
     "output_type": "stream",
     "text": [
      "0\n",
      "9\n"
     ]
    }
   ],
   "source": [
    "# ------------------ YEARLY DATASET --------------------\n",
    "\n",
    "# Remove the RANK column\n",
    "del yearlyRankedCrimes['WEIGHTED_INCIDENT_SCORE']\n",
    "\n",
    "association_rules = apriori(yearlyRankedCrimes.values, min_support=0.05, min_confidence=0.95, min_lift=3, min_length=2, use_colnames = True)\n",
    "association_results = list(association_rules)\n",
    "print(len(association_results))\n",
    "# 0\n",
    "\n",
    "# Adjust settings\n",
    "association_rules = apriori(yearlyRankedCrimes.values, min_support=0.00045, min_confidence=0.95, min_lift=3, min_length=2, use_colnames = True)\n",
    "association_results = list(association_rules)\n",
    "print(len(association_results))\n",
    "# 9"
   ]
  },
  {
   "cell_type": "code",
   "execution_count": 4,
   "metadata": {},
   "outputs": [
    {
     "name": "stdout",
     "output_type": "stream",
     "text": [
      "9\n",
      "RelationRecord(items=frozenset({-77.025, 38.94}), support=0.001005458201666188, ordered_statistics=[OrderedStatistic(items_base=frozenset({-77.025}), items_add=frozenset({38.94}), confidence=1.0, lift=994.5714285714284), OrderedStatistic(items_base=frozenset({38.94}), items_add=frozenset({-77.025}), confidence=1.0, lift=994.5714285714284)])\n",
      "Rule: [-77.025] -> [38.94]\n",
      "Support: 0.001005458201666188\n",
      "Confidence: 1.0\n",
      "Lift: 994.5714285714284\n",
      "=====================================\n",
      "Rule: [-75.22500000000002] -> [39.93]\n",
      "Support: 0.0005745475438092502\n",
      "Confidence: 1.0\n",
      "Lift: 1740.5\n",
      "=====================================\n",
      "Rule: [42.2] -> [-71.83]\n",
      "Support: 0.001292731973570813\n",
      "Confidence: 1.0\n",
      "Lift: 26.674329501915707\n",
      "=====================================\n",
      "Rule: [42.34] -> [-71.79]\n",
      "Support: 0.001292731973570813\n",
      "Confidence: 1.0\n",
      "Lift: 16.458628841607563\n",
      "=====================================\n",
      "Rule: [-71.735] -> [42.235]\n",
      "Support: 0.0018672795173800632\n",
      "Confidence: 1.0\n",
      "Lift: 17.492462311557787\n",
      "=====================================\n",
      "Rule: [-71.72] -> [42.295]\n",
      "Support: 0.0005745475438092502\n",
      "Confidence: 1.0\n",
      "Lift: 23.36241610738255\n",
      "=====================================\n",
      "Rule: [0.0021470746108427268, 42.305] -> [-71.84]\n",
      "Support: 0.0005745475438092502\n",
      "Confidence: 1.0\n",
      "Lift: 24.775800711743774\n",
      "=====================================\n",
      "Rule: [-71.75, 0.0040257648953301115] -> [42.245]\n",
      "Support: 0.0005745475438092502\n",
      "Confidence: 1.0\n",
      "Lift: 17.147783251231527\n",
      "=====================================\n",
      "Rule: [0.0016103059581320453, -71.735] -> [42.235]\n",
      "Support: 0.0005745475438092502\n",
      "Confidence: 1.0\n",
      "Lift: 17.492462311557787\n",
      "=====================================\n"
     ]
    }
   ],
   "source": [
    "# ----------------------------------------------------------------\n",
    "# ---------- COMMON COMMANDS AFTER GENERATING THE RULES ----------\n",
    "# ----------------------------------------------------------------\n",
    "\n",
    "# View number of Rules\n",
    "print(len(association_results))\n",
    "\n",
    "# View first Rule\n",
    "print(association_results[0])\n",
    "\n",
    "# Print all rules\n",
    "for item in association_results:\n",
    " # first index of the inner list\n",
    " # Contains base item and add item\n",
    " pair = item[0] \n",
    " items = [x for x in pair]\n",
    " #print(\"Rule: \" + items[0] + \" -> \" + items[1])\n",
    " print(\"Rule: \" + str(list(item.ordered_statistics[0].items_base)) + \" -> \" + str(list(item.ordered_statistics[0].items_add)))\n",
    " #second index of the inner list\n",
    " print(\"Support: \" + str(item[1]))\n",
    " #third index of the list located at 0th\n",
    " #of the third index of the inner list\n",
    " print(\"Confidence: \" + str(item[2][0][2]))\n",
    " print(\"Lift: \" + str(item[2][0][3]))\n",
    " print(\"=====================================\")"
   ]
  },
  {
   "cell_type": "code",
   "execution_count": null,
   "metadata": {},
   "outputs": [],
   "source": []
  }
 ],
 "metadata": {
  "kernelspec": {
   "display_name": "conda_python3",
   "language": "python",
   "name": "conda_python3"
  },
  "language_info": {
   "codemirror_mode": {
    "name": "ipython",
    "version": 3
   },
   "file_extension": ".py",
   "mimetype": "text/x-python",
   "name": "python",
   "nbconvert_exporter": "python",
   "pygments_lexer": "ipython3",
   "version": "3.6.5"
  }
 },
 "nbformat": 4,
 "nbformat_minor": 4
}
