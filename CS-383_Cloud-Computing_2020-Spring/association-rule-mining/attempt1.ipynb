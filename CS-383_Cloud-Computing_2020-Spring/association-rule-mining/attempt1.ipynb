{
 "cells": [
  {
   "cell_type": "code",
   "execution_count": 1,
   "metadata": {},
   "outputs": [
    {
     "name": "stdout",
     "output_type": "stream",
     "text": [
      "Collecting apyori\n",
      "  Downloading https://files.pythonhosted.org/packages/5e/62/5ffde5c473ea4b033490617ec5caa80d59804875ad3c3c57c0976533a21a/apyori-1.1.2.tar.gz\n",
      "Building wheels for collected packages: apyori\n",
      "  Running setup.py bdist_wheel for apyori ... \u001b[?25ldone\n",
      "\u001b[?25h  Stored in directory: /home/ec2-user/.cache/pip/wheels/5d/92/bb/474bbadbc8c0062b9eb168f69982a0443263f8ab1711a8cad0\n",
      "Successfully built apyori\n",
      "Installing collected packages: apyori\n",
      "Successfully installed apyori-1.1.2\n",
      "\u001b[33mYou are using pip version 10.0.1, however version 20.0.2 is available.\n",
      "You should consider upgrading via the 'pip install --upgrade pip' command.\u001b[0m\n"
     ]
    }
   ],
   "source": [
    "!pip3 install apyori"
   ]
  },
  {
   "cell_type": "code",
   "execution_count": 2,
   "metadata": {},
   "outputs": [
    {
     "name": "stdout",
     "output_type": "stream",
     "text": [
      "You are ready to use the data\n"
     ]
    }
   ],
   "source": [
    "# Apriori Algorithm for Association Rule Mining\n",
    "\n",
    "# ----------------------------------------------------------------\n",
    "# ------------------ SETTING UP THE RANKED DATA ------------------\n",
    "# ----------------------------------------------------------------\n",
    "\n",
    "# Install assocation rule mining library\n",
    "# pip3 install apyori\n",
    "\n",
    "import numpy as np\n",
    "import matplotlib.pyplot as plt\n",
    "import pandas as pd\n",
    "from apyori import apriori\n",
    "\n",
    "dataCsvPath = '/home/ec2-user/SageMaker/wsu-computer-science/CS-383_Cloud-Computing_2020-Spring/area-ranking/output/'\n",
    "dailyRankedCrimes = pd.read_csv(dataCsvPath + \"WorcesterData_BinRanked_Day.csv\",error_bad_lines=False)\n",
    "yearlyRankedCrimes = pd.read_csv(dataCsvPath + \"WorcesterData_BinRanked_Year.csv\",error_bad_lines=False)\n",
    "\n",
    "# Fix the Column names in the daily ranked crimes\n",
    "# Found that this breaks assocation rule mining - related to using date? \n",
    "#dailyRankedCrimes['ACTUAL_DTE'] = pd.to_datetime(dailyRankedCrimes['ACTUAL_DTE']*10000+dailyRankedCrimes['ACTUAL_DTE.1']*100+dailyRankedCrimes['ACTUAL_DTE.2'],format='%Y%m%d')\n",
    "#del dailyRankedCrimes['ACTUAL_DTE.1']\n",
    "#del dailyRankedCrimes['ACTUAL_DTE.2']\n",
    "# Still an issue if converted to a nominal (category):\n",
    "#dailyRankedCrimes['ACTUAL_DTE'] = dailyRankedCrimes['ACTUAL_DTE'].dt.strftime('%Y-%m-%d')\n",
    "#dailyRankedCrimes['ACTUAL_DTE']          \t\t= pd.Categorical(dailyRankedCrimes['ACTUAL_DTE'])\n",
    "\n",
    "# Done Loading Data\n",
    "print('You are ready to use the data')"
   ]
  },
  {
   "cell_type": "code",
   "execution_count": 12,
   "metadata": {},
   "outputs": [
    {
     "name": "stdout",
     "output_type": "stream",
     "text": [
      "<class 'pandas.core.frame.DataFrame'>\n",
      "RangeIndex: 186124 entries, 0 to 186123\n",
      "Data columns (total 7 columns):\n",
      "ACTUAL_DTE                 186124 non-null int64\n",
      "ACTUAL_DTE.1               186124 non-null int64\n",
      "ACTUAL_DTE.2               186124 non-null int64\n",
      "latbin                     186124 non-null float64\n",
      "lonbin                     186124 non-null float64\n",
      "WEIGHTED_INCIDENT_SCORE    186124 non-null int64\n",
      "RANK                       186124 non-null float64\n",
      "dtypes: float64(3), int64(4)\n",
      "memory usage: 9.9 MB\n"
     ]
    }
   ],
   "source": [
    "dailyRankedCrimes.info()"
   ]
  },
  {
   "cell_type": "code",
   "execution_count": 9,
   "metadata": {},
   "outputs": [
    {
     "name": "stdout",
     "output_type": "stream",
     "text": [
      "0\n",
      "10000\n",
      "20000\n",
      "30000\n",
      "40000\n",
      "50000\n",
      "60000\n",
      "70000\n",
      "80000\n",
      "90000\n",
      "100000\n",
      "110000\n",
      "120000\n",
      "130000\n",
      "140000\n",
      "150000\n",
      "160000\n",
      "170000\n",
      "180000\n",
      "Created daily records\n"
     ]
    }
   ],
   "source": [
    "# ------------------ DAILY DATASET --------------------\n",
    "\n",
    "records = []\n",
    "for i in range(0, 186123):\n",
    " records.append([str(dailyRankedCrimes.values[i,j]) for j in range(0, 4)])\n",
    " if(i%10000 == 0):\n",
    "        print(i)\n",
    "\n",
    "print(\"Created daily records\")\n",
    "\n",
    "# At this point it ran for many hours (on mny local machine) and never finished (not parallized) but on a i7 CPU with 16 GB of RAM\n",
    "# We found that python arrays were just too inefficient \n",
    "#"
   ]
  },
  {
   "cell_type": "code",
   "execution_count": 10,
   "metadata": {},
   "outputs": [
    {
     "name": "stdout",
     "output_type": "stream",
     "text": [
      "12\n"
     ]
    }
   ],
   "source": [
    "association_rules = apriori(dailyRankedCrimes, min_support=0.2, min_confidence=0.95, min_lift=3, min_length=4)\n",
    "association_results = list(association_rules)\n",
    "print(len(association_results))"
   ]
  },
  {
   "cell_type": "code",
   "execution_count": 13,
   "metadata": {},
   "outputs": [
    {
     "name": "stdout",
     "output_type": "stream",
     "text": [
      "8741\n",
      "9\n"
     ]
    }
   ],
   "source": [
    "# ------------------ YEARLY DATASET --------------------\n",
    "\n",
    "# Before deciding it was too inefficient I decided to try it with a smaller dataset - the Yearly Ranked Crimes Data\n",
    "\n",
    "records2 = []\n",
    "for i in range(0, 6961):\n",
    " records2.append([str(yearlyRankedCrimes.values[i,j]) for j in range(0, 5)])\n",
    "\n",
    "association_rules = apriori(yearlyRankedCrimes, min_support=0.0045, min_confidence=0.95, min_lift=3, min_length=2)\n",
    "association_results = list(association_rules)\n",
    "print(len(association_results))\n",
    "# 8741\n",
    "\n",
    "# That is too many rules. I messed around with the variables and repeated\n",
    "association_rules = apriori(yearlyRankedCrimes, min_support=0.2, min_confidence=0.95, min_lift=3, min_length=4)\n",
    "association_results = list(association_rules)\n",
    "print(len(association_results))\n",
    "# 9\n",
    "\n",
    "# I printed the Rules using the common commands (found in common-commands.py)"
   ]
  },
  {
   "cell_type": "code",
   "execution_count": 14,
   "metadata": {},
   "outputs": [
    {
     "name": "stdout",
     "output_type": "stream",
     "text": [
      "9\n",
      "RelationRecord(items=frozenset({'R', 'N'}), support=0.3333333333333333, ordered_statistics=[OrderedStatistic(items_base=frozenset({'N'}), items_add=frozenset({'R'}), confidence=1.0, lift=3.0), OrderedStatistic(items_base=frozenset({'R'}), items_add=frozenset({'N'}), confidence=1.0, lift=3.0)])\n",
      "Rule: ['N'] -> ['R']\n",
      "Support: 0.3333333333333333\n",
      "Confidence: 1.0\n",
      "Lift: 3.0\n",
      "=====================================\n",
      "Rule: ['b'] -> ['i']\n",
      "Support: 0.3333333333333333\n",
      "Confidence: 1.0\n",
      "Lift: 3.0\n",
      "=====================================\n",
      "Rule: ['b'] -> ['l']\n",
      "Support: 0.3333333333333333\n",
      "Confidence: 1.0\n",
      "Lift: 3.0\n",
      "=====================================\n",
      "Rule: ['i'] -> ['l']\n",
      "Support: 0.3333333333333333\n",
      "Confidence: 1.0\n",
      "Lift: 3.0\n",
      "=====================================\n",
      "Rule: ['b'] -> ['i', 'l']\n",
      "Support: 0.3333333333333333\n",
      "Confidence: 1.0\n",
      "Lift: 3.0\n",
      "=====================================\n",
      "Rule: ['b'] -> ['i', 'n']\n",
      "Support: 0.3333333333333333\n",
      "Confidence: 1.0\n",
      "Lift: 3.0\n",
      "=====================================\n",
      "Rule: ['b'] -> ['l', 'n']\n",
      "Support: 0.3333333333333333\n",
      "Confidence: 1.0\n",
      "Lift: 3.0\n",
      "=====================================\n",
      "Rule: ['i'] -> ['l', 'n']\n",
      "Support: 0.3333333333333333\n",
      "Confidence: 1.0\n",
      "Lift: 3.0\n",
      "=====================================\n",
      "Rule: ['b'] -> ['i', 'l', 'n']\n",
      "Support: 0.3333333333333333\n",
      "Confidence: 1.0\n",
      "Lift: 3.0\n",
      "=====================================\n"
     ]
    }
   ],
   "source": [
    "# ----------------------------------------------------------------\n",
    "# ---------- COMMON COMMANDS AFTER GENERATING THE RULES ----------\n",
    "# ----------------------------------------------------------------\n",
    "\n",
    "# View number of Rules\n",
    "print(len(association_results))\n",
    "\n",
    "# View first Rule\n",
    "print(association_results[0])\n",
    "\n",
    "# Print all rules\n",
    "for item in association_results:\n",
    " # first index of the inner list\n",
    " # Contains base item and add item\n",
    " pair = item[0] \n",
    " items = [x for x in pair]\n",
    " #print(\"Rule: \" + items[0] + \" -> \" + items[1])\n",
    " print(\"Rule: \" + str(list(item.ordered_statistics[0].items_base)) + \" -> \" + str(list(item.ordered_statistics[0].items_add)))\n",
    " #second index of the inner list\n",
    " print(\"Support: \" + str(item[1]))\n",
    " #third index of the list located at 0th\n",
    " #of the third index of the inner list\n",
    " print(\"Confidence: \" + str(item[2][0][2]))\n",
    " print(\"Lift: \" + str(item[2][0][3]))\n",
    " print(\"=====================================\")"
   ]
  },
  {
   "cell_type": "code",
   "execution_count": null,
   "metadata": {},
   "outputs": [],
   "source": []
  }
 ],
 "metadata": {
  "kernelspec": {
   "display_name": "conda_python3",
   "language": "python",
   "name": "conda_python3"
  },
  "language_info": {
   "codemirror_mode": {
    "name": "ipython",
    "version": 3
   },
   "file_extension": ".py",
   "mimetype": "text/x-python",
   "name": "python",
   "nbconvert_exporter": "python",
   "pygments_lexer": "ipython3",
   "version": "3.6.5"
  }
 },
 "nbformat": 4,
 "nbformat_minor": 4
}
