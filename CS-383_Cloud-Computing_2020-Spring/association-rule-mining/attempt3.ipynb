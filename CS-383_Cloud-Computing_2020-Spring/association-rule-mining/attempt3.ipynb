{
 "cells": [
  {
   "cell_type": "code",
   "execution_count": null,
   "metadata": {},
   "outputs": [],
   "source": [
    "!pip3 install apyori"
   ]
  },
  {
   "cell_type": "code",
   "execution_count": 1,
   "metadata": {},
   "outputs": [
    {
     "name": "stdout",
     "output_type": "stream",
     "text": [
      "You are ready to use the data\n"
     ]
    }
   ],
   "source": [
    "# Apriori Algorithm for Association Rule Mining\n",
    "\n",
    "# ----------------------------------------------------------------\n",
    "# ------------------ SETTING UP THE RANKED DATA ------------------\n",
    "# ----------------------------------------------------------------\n",
    "\n",
    "# Install assocation rule mining library\n",
    "# pip3 install apyori\n",
    "\n",
    "import numpy as np\n",
    "import matplotlib.pyplot as plt\n",
    "import pandas as pd\n",
    "from apyori import apriori\n",
    "\n",
    "dataCsvPath = '/home/ec2-user/SageMaker/wsu-computer-science/CS-383_Cloud-Computing_2020-Spring/area-ranking/output/'\n",
    "dailyRankedCrimes = pd.read_csv(dataCsvPath + \"WorcesterData_BinRanked_Day.csv\",error_bad_lines=False)\n",
    "yearlyRankedCrimes = pd.read_csv(dataCsvPath + \"WorcesterData_BinRanked_Year.csv\",error_bad_lines=False)\n",
    "\n",
    "# Fix the Column names in the daily ranked crimes\n",
    "# Found that this breaks assocation rule mining - related to using date? \n",
    "#dailyRankedCrimes['ACTUAL_DTE'] = pd.to_datetime(dailyRankedCrimes['ACTUAL_DTE']*10000+dailyRankedCrimes['ACTUAL_DTE.1']*100+dailyRankedCrimes['ACTUAL_DTE.2'],format='%Y%m%d')\n",
    "#del dailyRankedCrimes['ACTUAL_DTE.1']\n",
    "#del dailyRankedCrimes['ACTUAL_DTE.2']\n",
    "# Still an issue if converted to a nominal (category):\n",
    "#dailyRankedCrimes['ACTUAL_DTE'] = dailyRankedCrimes['ACTUAL_DTE'].dt.strftime('%Y-%m-%d')\n",
    "#dailyRankedCrimes['ACTUAL_DTE']          \t\t= pd.Categorical(dailyRankedCrimes['ACTUAL_DTE'])\n",
    "\n",
    "# Done Loading Data\n",
    "print('You are ready to use the data')"
   ]
  },
  {
   "cell_type": "code",
   "execution_count": 2,
   "metadata": {},
   "outputs": [
    {
     "name": "stdout",
     "output_type": "stream",
     "text": [
      "11\n"
     ]
    },
    {
     "ename": "KeyboardInterrupt",
     "evalue": "",
     "output_type": "error",
     "traceback": [
      "\u001b[0;31m---------------------------------------------------------------------------\u001b[0m",
      "\u001b[0;31mKeyboardInterrupt\u001b[0m                         Traceback (most recent call last)",
      "\u001b[0;32m<ipython-input-2-40fb413cd853>\u001b[0m in \u001b[0;36m<module>\u001b[0;34m()\u001b[0m\n\u001b[1;32m     11\u001b[0m \u001b[0;31m# Adjust settings\u001b[0m\u001b[0;34m\u001b[0m\u001b[0;34m\u001b[0m\u001b[0m\n\u001b[1;32m     12\u001b[0m \u001b[0massociation_rules\u001b[0m \u001b[0;34m=\u001b[0m \u001b[0mapriori\u001b[0m\u001b[0;34m(\u001b[0m\u001b[0myearlyRankedCrimes\u001b[0m\u001b[0;34m.\u001b[0m\u001b[0mvalues\u001b[0m\u001b[0;34m,\u001b[0m \u001b[0mmin_support\u001b[0m\u001b[0;34m=\u001b[0m\u001b[0;36m0.00025\u001b[0m\u001b[0;34m,\u001b[0m \u001b[0mmin_confidence\u001b[0m\u001b[0;34m=\u001b[0m\u001b[0;36m0.95\u001b[0m\u001b[0;34m,\u001b[0m \u001b[0mmin_lift\u001b[0m\u001b[0;34m=\u001b[0m\u001b[0;36m3\u001b[0m\u001b[0;34m,\u001b[0m \u001b[0mmin_length\u001b[0m\u001b[0;34m=\u001b[0m\u001b[0;36m2\u001b[0m\u001b[0;34m,\u001b[0m \u001b[0muse_colnames\u001b[0m \u001b[0;34m=\u001b[0m \u001b[0;32mTrue\u001b[0m\u001b[0;34m)\u001b[0m\u001b[0;34m\u001b[0m\u001b[0m\n\u001b[0;32m---> 13\u001b[0;31m \u001b[0massociation_results\u001b[0m \u001b[0;34m=\u001b[0m \u001b[0mlist\u001b[0m\u001b[0;34m(\u001b[0m\u001b[0massociation_rules\u001b[0m\u001b[0;34m)\u001b[0m\u001b[0;34m\u001b[0m\u001b[0m\n\u001b[0m\u001b[1;32m     14\u001b[0m \u001b[0mprint\u001b[0m\u001b[0;34m(\u001b[0m\u001b[0mlen\u001b[0m\u001b[0;34m(\u001b[0m\u001b[0massociation_results\u001b[0m\u001b[0;34m)\u001b[0m\u001b[0;34m)\u001b[0m\u001b[0;34m\u001b[0m\u001b[0m\n\u001b[1;32m     15\u001b[0m \u001b[0;31m# 5\u001b[0m\u001b[0;34m\u001b[0m\u001b[0;34m\u001b[0m\u001b[0m\n",
      "\u001b[0;32m~/anaconda3/envs/python3/lib/python3.6/site-packages/apyori.py\u001b[0m in \u001b[0;36mapriori\u001b[0;34m(transactions, **kwargs)\u001b[0m\n\u001b[1;32m    284\u001b[0m \u001b[0;34m\u001b[0m\u001b[0m\n\u001b[1;32m    285\u001b[0m     \u001b[0;31m# Calculate ordered stats.\u001b[0m\u001b[0;34m\u001b[0m\u001b[0;34m\u001b[0m\u001b[0m\n\u001b[0;32m--> 286\u001b[0;31m     \u001b[0;32mfor\u001b[0m \u001b[0msupport_record\u001b[0m \u001b[0;32min\u001b[0m \u001b[0msupport_records\u001b[0m\u001b[0;34m:\u001b[0m\u001b[0;34m\u001b[0m\u001b[0m\n\u001b[0m\u001b[1;32m    287\u001b[0m         ordered_statistics = list(\n\u001b[1;32m    288\u001b[0m             _filter_ordered_statistics(\n",
      "\u001b[0;32m~/anaconda3/envs/python3/lib/python3.6/site-packages/apyori.py\u001b[0m in \u001b[0;36mgen_support_records\u001b[0;34m(transaction_manager, min_support, **kwargs)\u001b[0m\n\u001b[1;32m    197\u001b[0m         \u001b[0;32mif\u001b[0m \u001b[0mmax_length\u001b[0m \u001b[0;32mand\u001b[0m \u001b[0mlength\u001b[0m \u001b[0;34m>\u001b[0m \u001b[0mmax_length\u001b[0m\u001b[0;34m:\u001b[0m\u001b[0;34m\u001b[0m\u001b[0m\n\u001b[1;32m    198\u001b[0m             \u001b[0;32mbreak\u001b[0m\u001b[0;34m\u001b[0m\u001b[0m\n\u001b[0;32m--> 199\u001b[0;31m         \u001b[0mcandidates\u001b[0m \u001b[0;34m=\u001b[0m \u001b[0m_create_next_candidates\u001b[0m\u001b[0;34m(\u001b[0m\u001b[0mrelations\u001b[0m\u001b[0;34m,\u001b[0m \u001b[0mlength\u001b[0m\u001b[0;34m)\u001b[0m\u001b[0;34m\u001b[0m\u001b[0m\n\u001b[0m\u001b[1;32m    200\u001b[0m \u001b[0;34m\u001b[0m\u001b[0m\n\u001b[1;32m    201\u001b[0m \u001b[0;34m\u001b[0m\u001b[0m\n",
      "\u001b[0;32m~/anaconda3/envs/python3/lib/python3.6/site-packages/apyori.py\u001b[0m in \u001b[0;36mcreate_next_candidates\u001b[0;34m(prev_candidates, length)\u001b[0m\n\u001b[1;32m    156\u001b[0m     \u001b[0;31m# in the previous candidates.\u001b[0m\u001b[0;34m\u001b[0m\u001b[0;34m\u001b[0m\u001b[0m\n\u001b[1;32m    157\u001b[0m     next_candidates = [\n\u001b[0;32m--> 158\u001b[0;31m         \u001b[0mcandidate\u001b[0m \u001b[0;32mfor\u001b[0m \u001b[0mcandidate\u001b[0m \u001b[0;32min\u001b[0m \u001b[0mtmp_next_candidates\u001b[0m\u001b[0;34m\u001b[0m\u001b[0m\n\u001b[0m\u001b[1;32m    159\u001b[0m         if all(\n\u001b[1;32m    160\u001b[0m             \u001b[0mfrozenset\u001b[0m\u001b[0;34m(\u001b[0m\u001b[0mx\u001b[0m\u001b[0;34m)\u001b[0m \u001b[0;32min\u001b[0m \u001b[0mprev_candidates\u001b[0m\u001b[0;34m\u001b[0m\u001b[0m\n",
      "\u001b[0;32m~/anaconda3/envs/python3/lib/python3.6/site-packages/apyori.py\u001b[0m in \u001b[0;36m<listcomp>\u001b[0;34m(.0)\u001b[0m\n\u001b[1;32m    159\u001b[0m         if all(\n\u001b[1;32m    160\u001b[0m             \u001b[0mfrozenset\u001b[0m\u001b[0;34m(\u001b[0m\u001b[0mx\u001b[0m\u001b[0;34m)\u001b[0m \u001b[0;32min\u001b[0m \u001b[0mprev_candidates\u001b[0m\u001b[0;34m\u001b[0m\u001b[0m\n\u001b[0;32m--> 161\u001b[0;31m             for x in combinations(candidate, length - 1))\n\u001b[0m\u001b[1;32m    162\u001b[0m     ]\n\u001b[1;32m    163\u001b[0m     \u001b[0;32mreturn\u001b[0m \u001b[0mnext_candidates\u001b[0m\u001b[0;34m\u001b[0m\u001b[0m\n",
      "\u001b[0;32m~/anaconda3/envs/python3/lib/python3.6/site-packages/apyori.py\u001b[0m in \u001b[0;36m<genexpr>\u001b[0;34m(.0)\u001b[0m\n\u001b[1;32m    159\u001b[0m         if all(\n\u001b[1;32m    160\u001b[0m             \u001b[0mfrozenset\u001b[0m\u001b[0;34m(\u001b[0m\u001b[0mx\u001b[0m\u001b[0;34m)\u001b[0m \u001b[0;32min\u001b[0m \u001b[0mprev_candidates\u001b[0m\u001b[0;34m\u001b[0m\u001b[0m\n\u001b[0;32m--> 161\u001b[0;31m             for x in combinations(candidate, length - 1))\n\u001b[0m\u001b[1;32m    162\u001b[0m     ]\n\u001b[1;32m    163\u001b[0m     \u001b[0;32mreturn\u001b[0m \u001b[0mnext_candidates\u001b[0m\u001b[0;34m\u001b[0m\u001b[0m\n",
      "\u001b[0;31mKeyboardInterrupt\u001b[0m: "
     ]
    }
   ],
   "source": [
    "# ------------------ DAILY DATASET --------------------\n",
    "\n",
    "# Remove the RANK column\n",
    "del dailyRankedCrimes['RANK']\n",
    "\n",
    "association_rules = apriori(dailyRankedCrimes.values, min_support=0.00045, min_confidence=0.8, min_lift=3, min_length=2, use_colnames = True)\n",
    "association_results = list(association_rules)\n",
    "print(len(association_results))\n",
    "# 0\n",
    "\n",
    "# Adjust settings\n",
    "association_rules = apriori(yearlyRankedCrimes.values, min_support=0.00025, min_confidence=0.95, min_lift=3, min_length=2, use_colnames = True)\n",
    "association_results = list(association_rules)\n",
    "print(len(association_results))\n",
    "# 5"
   ]
  },
  {
   "cell_type": "code",
   "execution_count": null,
   "metadata": {},
   "outputs": [],
   "source": [
    "# ------------------ YEARLY DATASET --------------------\n",
    "\n",
    "# Remove the RANK column\n",
    "del yearlyRankedCrimes['RANK']\n",
    "\n",
    "association_rules = apriori(yearlyRankedCrimes.values, min_support=0.02, min_confidence=0.95, min_lift=3, min_length=4, use_colnames = True)\n",
    "association_results = list(association_rules)\n",
    "print(len(association_results))\n",
    "# 0\n",
    "\n",
    "# Adjust settings\n",
    "association_rules = apriori(yearlyRankedCrimes.values, min_support=0.00045, min_confidence=0.8, min_lift=3, min_length=2, use_colnames = True)\n",
    "association_results = list(association_rules)\n",
    "print(len(association_results))\n",
    "# 16"
   ]
  },
  {
   "cell_type": "code",
   "execution_count": null,
   "metadata": {},
   "outputs": [],
   "source": [
    "# ----------------------------------------------------------------\n",
    "# ---------- COMMON COMMANDS AFTER GENERATING THE RULES ----------\n",
    "# ----------------------------------------------------------------\n",
    "\n",
    "# View number of Rules\n",
    "print(len(association_results))\n",
    "\n",
    "# View first Rule\n",
    "print(association_results[0])\n",
    "\n",
    "# Print all rules\n",
    "for item in association_results:\n",
    " # first index of the inner list\n",
    " # Contains base item and add item\n",
    " pair = item[0] \n",
    " items = [x for x in pair]\n",
    " #print(\"Rule: \" + items[0] + \" -> \" + items[1])\n",
    " print(\"Rule: \" + str(list(item.ordered_statistics[0].items_base)) + \" -> \" + str(list(item.ordered_statistics[0].items_add)))\n",
    " #second index of the inner list\n",
    " print(\"Support: \" + str(item[1]))\n",
    " #third index of the list located at 0th\n",
    " #of the third index of the inner list\n",
    " print(\"Confidence: \" + str(item[2][0][2]))\n",
    " print(\"Lift: \" + str(item[2][0][3]))\n",
    " print(\"=====================================\")"
   ]
  },
  {
   "cell_type": "code",
   "execution_count": null,
   "metadata": {},
   "outputs": [],
   "source": []
  }
 ],
 "metadata": {
  "kernelspec": {
   "display_name": "conda_python3",
   "language": "python",
   "name": "conda_python3"
  },
  "language_info": {
   "codemirror_mode": {
    "name": "ipython",
    "version": 3
   },
   "file_extension": ".py",
   "mimetype": "text/x-python",
   "name": "python",
   "nbconvert_exporter": "python",
   "pygments_lexer": "ipython3",
   "version": "3.6.5"
  }
 },
 "nbformat": 4,
 "nbformat_minor": 4
}
